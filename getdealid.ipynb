{
  "nbformat": 4,
  "nbformat_minor": 0,
  "metadata": {
    "colab": {
      "name": "getdealid.ipynb",
      "provenance": [],
      "mount_file_id": "1-CGtZ2-s0eiP_csz7Gsy71biowKpNeml",
      "authorship_tag": "ABX9TyMaVsL8Abyuz8q4mPAUFI7n",
      "include_colab_link": true
    },
    "kernelspec": {
      "name": "python3",
      "display_name": "Python 3"
    }
  },
  "cells": [
    {
      "cell_type": "markdown",
      "metadata": {
        "id": "view-in-github",
        "colab_type": "text"
      },
      "source": [
        "<a href=\"https://colab.research.google.com/github/matheusjiran/python_pandas_course/blob/master/getdealid.ipynb\" target=\"_parent\"><img src=\"https://colab.research.google.com/assets/colab-badge.svg\" alt=\"Open In Colab\"/></a>"
      ]
    },
    {
      "cell_type": "code",
      "metadata": {
        "id": "I7KbDZ2547eW"
      },
      "source": [
        "import pandas as pd\r\n",
        "import json\r\n"
      ],
      "execution_count": 1,
      "outputs": []
    },
    {
      "cell_type": "code",
      "metadata": {
        "colab": {
          "base_uri": "https://localhost:8080/"
        },
        "id": "8iAR-lpE9lCa",
        "outputId": "d0fb7932-43a1-460a-d650-21958617bb51"
      },
      "source": [
        "with open('data.json','r') as f:\r\n",
        "  data = json.load(f)\r\n",
        "type(data)"
      ],
      "execution_count": 9,
      "outputs": [
        {
          "output_type": "execute_result",
          "data": {
            "text/plain": [
              "dict"
            ]
          },
          "metadata": {
            "tags": []
          },
          "execution_count": 9
        }
      ]
    },
    {
      "cell_type": "code",
      "metadata": {
        "colab": {
          "base_uri": "https://localhost:8080/",
          "height": 640
        },
        "id": "h-FqEUVg9u4t",
        "outputId": "08d8ea1b-e031-4dbe-d01c-85ebb4d55e95"
      },
      "source": [
        "properties = data.get('properties')\r\n",
        "df = pd.DataFrame.from_dict(properties)\r\n",
        "df = pd.DataFrame.transpose(df)\r\n",
        "df"
      ],
      "execution_count": 23,
      "outputs": [
        {
          "output_type": "execute_result",
          "data": {
            "text/html": [
              "<div>\n",
              "<style scoped>\n",
              "    .dataframe tbody tr th:only-of-type {\n",
              "        vertical-align: middle;\n",
              "    }\n",
              "\n",
              "    .dataframe tbody tr th {\n",
              "        vertical-align: top;\n",
              "    }\n",
              "\n",
              "    .dataframe thead th {\n",
              "        text-align: right;\n",
              "    }\n",
              "</style>\n",
              "<table border=\"1\" class=\"dataframe\">\n",
              "  <thead>\n",
              "    <tr style=\"text-align: right;\">\n",
              "      <th></th>\n",
              "      <th>versions</th>\n",
              "      <th>value</th>\n",
              "      <th>timestamp</th>\n",
              "      <th>source</th>\n",
              "      <th>sourceId</th>\n",
              "      <th>updatedByUserId</th>\n",
              "    </tr>\n",
              "  </thead>\n",
              "  <tbody>\n",
              "    <tr>\n",
              "      <th>sl_accountid</th>\n",
              "      <td>[{'name': 'sl_accountid', 'value': '878931101'...</td>\n",
              "      <td>878931101</td>\n",
              "      <td>1601585355261</td>\n",
              "      <td>AUTOMATION_PLATFORM</td>\n",
              "      <td>enrollmentId:52953946837;actionExecutionIndex:1</td>\n",
              "      <td>None</td>\n",
              "    </tr>\n",
              "    <tr>\n",
              "      <th>dealname</th>\n",
              "      <td>[{'name': 'dealname', 'value': 'Twilio IoT - N...</td>\n",
              "      <td>Twilio IoT - New Deal</td>\n",
              "      <td>1595338293924</td>\n",
              "      <td>CRM_UI</td>\n",
              "      <td>mark.morgenbesser@rockcontent.com</td>\n",
              "      <td>10360851</td>\n",
              "    </tr>\n",
              "    <tr>\n",
              "      <th>hs_all_accessible_team_ids</th>\n",
              "      <td>[{'name': 'hs_all_accessible_team_ids', 'value...</td>\n",
              "      <td>101072;213435;310829;344511;374892;1419743</td>\n",
              "      <td>1606308187041</td>\n",
              "      <td>CRM_UI</td>\n",
              "      <td>rafael.moreira@rockcontent.com</td>\n",
              "      <td>3665726</td>\n",
              "    </tr>\n",
              "    <tr>\n",
              "      <th>num_associated_contacts</th>\n",
              "      <td>[{'name': 'num_associated_contacts', 'value': ...</td>\n",
              "      <td>1</td>\n",
              "      <td>1595338295119</td>\n",
              "      <td>CALCULATED</td>\n",
              "      <td>RollupProperties</td>\n",
              "      <td>None</td>\n",
              "    </tr>\n",
              "    <tr>\n",
              "      <th>hs_forecast_amount</th>\n",
              "      <td>[{'name': 'hs_forecast_amount', 'value': '2000...</td>\n",
              "      <td>20000</td>\n",
              "      <td>1605316662178</td>\n",
              "      <td>MIGRATION</td>\n",
              "      <td>RecalculateCalculatedPropertiesHelper</td>\n",
              "      <td>None</td>\n",
              "    </tr>\n",
              "    <tr>\n",
              "      <th>...</th>\n",
              "      <td>...</td>\n",
              "      <td>...</td>\n",
              "      <td>...</td>\n",
              "      <td>...</td>\n",
              "      <td>...</td>\n",
              "      <td>...</td>\n",
              "    </tr>\n",
              "    <tr>\n",
              "      <th>csm</th>\n",
              "      <td>[{'name': 'csm', 'value': '41971855', 'timesta...</td>\n",
              "      <td>41971855</td>\n",
              "      <td>1603487833563</td>\n",
              "      <td>AUTOMATION_PLATFORM</td>\n",
              "      <td>enrollmentId:57441191583;actionExecutionIndex:0</td>\n",
              "      <td>None</td>\n",
              "    </tr>\n",
              "    <tr>\n",
              "      <th>hs_latest_meeting_activity</th>\n",
              "      <td>[{'name': 'hs_latest_meeting_activity', 'value...</td>\n",
              "      <td>1597248000000</td>\n",
              "      <td>1596038287680</td>\n",
              "      <td>ENGAGEMENTS</td>\n",
              "      <td>ObjectPropertyUpdater</td>\n",
              "      <td>None</td>\n",
              "    </tr>\n",
              "    <tr>\n",
              "      <th>deal_source1</th>\n",
              "      <td>[{'name': 'deal_source1', 'value': 'Inbound', ...</td>\n",
              "      <td>Inbound</td>\n",
              "      <td>1606221492674</td>\n",
              "      <td>AUTOMATION_PLATFORM</td>\n",
              "      <td>enrollmentId:61902910748;actionExecutionIndex:2</td>\n",
              "      <td>None</td>\n",
              "    </tr>\n",
              "    <tr>\n",
              "      <th>product_category</th>\n",
              "      <td>[{'name': 'product_category', 'value': 'ion Sa...</td>\n",
              "      <td>ion SaaS;ion Services</td>\n",
              "      <td>1601573603082</td>\n",
              "      <td>AUTOMATION_PLATFORM</td>\n",
              "      <td>enrollmentId:52926829044;actionExecutionIndex:3</td>\n",
              "      <td>None</td>\n",
              "    </tr>\n",
              "    <tr>\n",
              "      <th>num_notes</th>\n",
              "      <td>[{'name': 'num_notes', 'value': '64', 'timesta...</td>\n",
              "      <td>64</td>\n",
              "      <td>1607450040336</td>\n",
              "      <td>ENGAGEMENTS</td>\n",
              "      <td>ObjectPropertyUpdater</td>\n",
              "      <td>None</td>\n",
              "    </tr>\n",
              "  </tbody>\n",
              "</table>\n",
              "<p>77 rows × 6 columns</p>\n",
              "</div>"
            ],
            "text/plain": [
              "                                                                     versions  ... updatedByUserId\n",
              "sl_accountid                [{'name': 'sl_accountid', 'value': '878931101'...  ...            None\n",
              "dealname                    [{'name': 'dealname', 'value': 'Twilio IoT - N...  ...        10360851\n",
              "hs_all_accessible_team_ids  [{'name': 'hs_all_accessible_team_ids', 'value...  ...         3665726\n",
              "num_associated_contacts     [{'name': 'num_associated_contacts', 'value': ...  ...            None\n",
              "hs_forecast_amount          [{'name': 'hs_forecast_amount', 'value': '2000...  ...            None\n",
              "...                                                                       ...  ...             ...\n",
              "csm                         [{'name': 'csm', 'value': '41971855', 'timesta...  ...            None\n",
              "hs_latest_meeting_activity  [{'name': 'hs_latest_meeting_activity', 'value...  ...            None\n",
              "deal_source1                [{'name': 'deal_source1', 'value': 'Inbound', ...  ...            None\n",
              "product_category            [{'name': 'product_category', 'value': 'ion Sa...  ...            None\n",
              "num_notes                   [{'name': 'num_notes', 'value': '64', 'timesta...  ...            None\n",
              "\n",
              "[77 rows x 6 columns]"
            ]
          },
          "metadata": {
            "tags": []
          },
          "execution_count": 23
        }
      ]
    },
    {
      "cell_type": "code",
      "metadata": {
        "colab": {
          "base_uri": "https://localhost:8080/",
          "height": 35
        },
        "id": "BVMqeNCL-5I-",
        "outputId": "823f5881-ea71-4685-8565-75037e38af45"
      },
      "source": [
        "deal_id = df.loc[\"hs_object_id\", \"value\"]\r\n",
        "deal_id"
      ],
      "execution_count": 30,
      "outputs": [
        {
          "output_type": "execute_result",
          "data": {
            "application/vnd.google.colaboratory.intrinsic+json": {
              "type": "string"
            },
            "text/plain": [
              "'2459399539'"
            ]
          },
          "metadata": {
            "tags": []
          },
          "execution_count": 30
        }
      ]
    },
    {
      "cell_type": "code",
      "metadata": {
        "colab": {
          "base_uri": "https://localhost:8080/"
        },
        "id": "8-xwY4gGBdoT",
        "outputId": "beaa46fd-ea95-4fab-a320-912d4750e184"
      },
      "source": [
        "df.loc[\"hs_object_id\"]"
      ],
      "execution_count": 31,
      "outputs": [
        {
          "output_type": "execute_result",
          "data": {
            "text/plain": [
              "versions           [{'name': 'hs_object_id', 'value': '2459399539...\n",
              "value                                                     2459399539\n",
              "timestamp                                              1595338293924\n",
              "source                                                      CONTACTS\n",
              "sourceId                                                      CRM_UI\n",
              "updatedByUserId                                                 None\n",
              "Name: hs_object_id, dtype: object"
            ]
          },
          "metadata": {
            "tags": []
          },
          "execution_count": 31
        }
      ]
    },
    {
      "cell_type": "code",
      "metadata": {
        "id": "6hzPqKK7CGHJ"
      },
      "source": [
        "def getdealid(payload):\r\n",
        "  properties = payload.get('properties')\r\n",
        "  df = pd.DataFrame.from_dict(properties)\r\n",
        "  df = pd.DataFrame.transpose(df)\r\n",
        "  deal_id = df.loc[\"hs_object_id\", \"value\"]"
      ],
      "execution_count": null,
      "outputs": []
    }
  ]
}